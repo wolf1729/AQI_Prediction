{
  "nbformat": 4,
  "nbformat_minor": 0,
  "metadata": {
    "colab": {
      "provenance": [],
      "authorship_tag": "ABX9TyNwYXq4i+o4HaVk7ivXG9LB",
      "include_colab_link": true
    },
    "kernelspec": {
      "name": "python3",
      "display_name": "Python 3"
    },
    "language_info": {
      "name": "python"
    }
  },
  "cells": [
    {
      "cell_type": "markdown",
      "metadata": {
        "id": "view-in-github",
        "colab_type": "text"
      },
      "source": [
        "<a href=\"https://colab.research.google.com/github/wolf1729/AQI_Prediction/blob/main/LSTM.ipynb\" target=\"_parent\"><img src=\"https://colab.research.google.com/assets/colab-badge.svg\" alt=\"Open In Colab\"/></a>"
      ]
    },
    {
      "cell_type": "code",
      "source": [
        "!pip install keras\n",
        "!pip install tensorflow"
      ],
      "metadata": {
        "colab": {
          "base_uri": "https://localhost:8080/"
        },
        "id": "U5qr6Y3t99KA",
        "outputId": "ba923e36-963c-4d33-f9e4-6a3571da45ef"
      },
      "execution_count": 1,
      "outputs": [
        {
          "output_type": "stream",
          "name": "stdout",
          "text": [
            "Looking in indexes: https://pypi.org/simple, https://us-python.pkg.dev/colab-wheels/public/simple/\n",
            "Requirement already satisfied: keras in /usr/local/lib/python3.10/dist-packages (2.12.0)\n",
            "Looking in indexes: https://pypi.org/simple, https://us-python.pkg.dev/colab-wheels/public/simple/\n",
            "Requirement already satisfied: tensorflow in /usr/local/lib/python3.10/dist-packages (2.12.0)\n",
            "Requirement already satisfied: absl-py>=1.0.0 in /usr/local/lib/python3.10/dist-packages (from tensorflow) (1.4.0)\n",
            "Requirement already satisfied: astunparse>=1.6.0 in /usr/local/lib/python3.10/dist-packages (from tensorflow) (1.6.3)\n",
            "Requirement already satisfied: flatbuffers>=2.0 in /usr/local/lib/python3.10/dist-packages (from tensorflow) (23.5.26)\n",
            "Requirement already satisfied: gast<=0.4.0,>=0.2.1 in /usr/local/lib/python3.10/dist-packages (from tensorflow) (0.4.0)\n",
            "Requirement already satisfied: google-pasta>=0.1.1 in /usr/local/lib/python3.10/dist-packages (from tensorflow) (0.2.0)\n",
            "Requirement already satisfied: grpcio<2.0,>=1.24.3 in /usr/local/lib/python3.10/dist-packages (from tensorflow) (1.56.0)\n",
            "Requirement already satisfied: h5py>=2.9.0 in /usr/local/lib/python3.10/dist-packages (from tensorflow) (3.8.0)\n",
            "Requirement already satisfied: jax>=0.3.15 in /usr/local/lib/python3.10/dist-packages (from tensorflow) (0.4.10)\n",
            "Requirement already satisfied: keras<2.13,>=2.12.0 in /usr/local/lib/python3.10/dist-packages (from tensorflow) (2.12.0)\n",
            "Requirement already satisfied: libclang>=13.0.0 in /usr/local/lib/python3.10/dist-packages (from tensorflow) (16.0.0)\n",
            "Requirement already satisfied: numpy<1.24,>=1.22 in /usr/local/lib/python3.10/dist-packages (from tensorflow) (1.22.4)\n",
            "Requirement already satisfied: opt-einsum>=2.3.2 in /usr/local/lib/python3.10/dist-packages (from tensorflow) (3.3.0)\n",
            "Requirement already satisfied: packaging in /usr/local/lib/python3.10/dist-packages (from tensorflow) (23.1)\n",
            "Requirement already satisfied: protobuf!=4.21.0,!=4.21.1,!=4.21.2,!=4.21.3,!=4.21.4,!=4.21.5,<5.0.0dev,>=3.20.3 in /usr/local/lib/python3.10/dist-packages (from tensorflow) (3.20.3)\n",
            "Requirement already satisfied: setuptools in /usr/local/lib/python3.10/dist-packages (from tensorflow) (67.7.2)\n",
            "Requirement already satisfied: six>=1.12.0 in /usr/local/lib/python3.10/dist-packages (from tensorflow) (1.16.0)\n",
            "Requirement already satisfied: tensorboard<2.13,>=2.12 in /usr/local/lib/python3.10/dist-packages (from tensorflow) (2.12.3)\n",
            "Requirement already satisfied: tensorflow-estimator<2.13,>=2.12.0 in /usr/local/lib/python3.10/dist-packages (from tensorflow) (2.12.0)\n",
            "Requirement already satisfied: termcolor>=1.1.0 in /usr/local/lib/python3.10/dist-packages (from tensorflow) (2.3.0)\n",
            "Requirement already satisfied: typing-extensions>=3.6.6 in /usr/local/lib/python3.10/dist-packages (from tensorflow) (4.6.3)\n",
            "Requirement already satisfied: wrapt<1.15,>=1.11.0 in /usr/local/lib/python3.10/dist-packages (from tensorflow) (1.14.1)\n",
            "Requirement already satisfied: tensorflow-io-gcs-filesystem>=0.23.1 in /usr/local/lib/python3.10/dist-packages (from tensorflow) (0.32.0)\n",
            "Requirement already satisfied: wheel<1.0,>=0.23.0 in /usr/local/lib/python3.10/dist-packages (from astunparse>=1.6.0->tensorflow) (0.40.0)\n",
            "Requirement already satisfied: ml-dtypes>=0.1.0 in /usr/local/lib/python3.10/dist-packages (from jax>=0.3.15->tensorflow) (0.2.0)\n",
            "Requirement already satisfied: scipy>=1.7 in /usr/local/lib/python3.10/dist-packages (from jax>=0.3.15->tensorflow) (1.10.1)\n",
            "Requirement already satisfied: google-auth<3,>=1.6.3 in /usr/local/lib/python3.10/dist-packages (from tensorboard<2.13,>=2.12->tensorflow) (2.17.3)\n",
            "Requirement already satisfied: google-auth-oauthlib<1.1,>=0.5 in /usr/local/lib/python3.10/dist-packages (from tensorboard<2.13,>=2.12->tensorflow) (1.0.0)\n",
            "Requirement already satisfied: markdown>=2.6.8 in /usr/local/lib/python3.10/dist-packages (from tensorboard<2.13,>=2.12->tensorflow) (3.4.3)\n",
            "Requirement already satisfied: requests<3,>=2.21.0 in /usr/local/lib/python3.10/dist-packages (from tensorboard<2.13,>=2.12->tensorflow) (2.27.1)\n",
            "Requirement already satisfied: tensorboard-data-server<0.8.0,>=0.7.0 in /usr/local/lib/python3.10/dist-packages (from tensorboard<2.13,>=2.12->tensorflow) (0.7.1)\n",
            "Requirement already satisfied: werkzeug>=1.0.1 in /usr/local/lib/python3.10/dist-packages (from tensorboard<2.13,>=2.12->tensorflow) (2.3.6)\n",
            "Requirement already satisfied: cachetools<6.0,>=2.0.0 in /usr/local/lib/python3.10/dist-packages (from google-auth<3,>=1.6.3->tensorboard<2.13,>=2.12->tensorflow) (5.3.1)\n",
            "Requirement already satisfied: pyasn1-modules>=0.2.1 in /usr/local/lib/python3.10/dist-packages (from google-auth<3,>=1.6.3->tensorboard<2.13,>=2.12->tensorflow) (0.3.0)\n",
            "Requirement already satisfied: rsa<5,>=3.1.4 in /usr/local/lib/python3.10/dist-packages (from google-auth<3,>=1.6.3->tensorboard<2.13,>=2.12->tensorflow) (4.9)\n",
            "Requirement already satisfied: requests-oauthlib>=0.7.0 in /usr/local/lib/python3.10/dist-packages (from google-auth-oauthlib<1.1,>=0.5->tensorboard<2.13,>=2.12->tensorflow) (1.3.1)\n",
            "Requirement already satisfied: urllib3<1.27,>=1.21.1 in /usr/local/lib/python3.10/dist-packages (from requests<3,>=2.21.0->tensorboard<2.13,>=2.12->tensorflow) (1.26.16)\n",
            "Requirement already satisfied: certifi>=2017.4.17 in /usr/local/lib/python3.10/dist-packages (from requests<3,>=2.21.0->tensorboard<2.13,>=2.12->tensorflow) (2023.5.7)\n",
            "Requirement already satisfied: charset-normalizer~=2.0.0 in /usr/local/lib/python3.10/dist-packages (from requests<3,>=2.21.0->tensorboard<2.13,>=2.12->tensorflow) (2.0.12)\n",
            "Requirement already satisfied: idna<4,>=2.5 in /usr/local/lib/python3.10/dist-packages (from requests<3,>=2.21.0->tensorboard<2.13,>=2.12->tensorflow) (3.4)\n",
            "Requirement already satisfied: MarkupSafe>=2.1.1 in /usr/local/lib/python3.10/dist-packages (from werkzeug>=1.0.1->tensorboard<2.13,>=2.12->tensorflow) (2.1.3)\n",
            "Requirement already satisfied: pyasn1<0.6.0,>=0.4.6 in /usr/local/lib/python3.10/dist-packages (from pyasn1-modules>=0.2.1->google-auth<3,>=1.6.3->tensorboard<2.13,>=2.12->tensorflow) (0.5.0)\n",
            "Requirement already satisfied: oauthlib>=3.0.0 in /usr/local/lib/python3.10/dist-packages (from requests-oauthlib>=0.7.0->google-auth-oauthlib<1.1,>=0.5->tensorboard<2.13,>=2.12->tensorflow) (3.2.2)\n"
          ]
        }
      ]
    },
    {
      "cell_type": "code",
      "execution_count": 2,
      "metadata": {
        "id": "Fg9E9HcU9KDH"
      },
      "outputs": [],
      "source": [
        "import pandas as pd\n",
        "import numpy as np\n",
        "import matplotlib.pyplot as plt\n",
        "from datetime import datetime\n",
        "from tensorflow.keras.models import Sequential\n",
        "from tensorflow.keras.layers import LSTM, Dense\n",
        "from sklearn.model_selection import train_test_split\n",
        "from sklearn.preprocessing import MinMaxScaler\n",
        "from sklearn.metrics import mean_absolute_error\n",
        "from sklearn.metrics import mean_squared_error"
      ]
    },
    {
      "cell_type": "code",
      "source": [
        "# Read the data from CSV\n",
        "link = \"/content/delhi_aqi_day_wise.csv\"\n",
        "data = pd.read_csv(link)"
      ],
      "metadata": {
        "id": "FZznL7d29Qgi"
      },
      "execution_count": 3,
      "outputs": []
    },
    {
      "cell_type": "code",
      "source": [
        "# Check for missing values\n",
        "print(data.isnull().sum())\n",
        "\n",
        "# Drop rows with missing values\n",
        "data.dropna(inplace=True)"
      ],
      "metadata": {
        "id": "vJxugWW69TNL",
        "colab": {
          "base_uri": "https://localhost:8080/"
        },
        "outputId": "6683a5b0-38fd-41e4-a048-75b6ffb8c8c7"
      },
      "execution_count": 4,
      "outputs": [
        {
          "output_type": "stream",
          "name": "stdout",
          "text": [
            "City            0\n",
            "Date            0\n",
            "PM2.5           2\n",
            "PM10           77\n",
            "NO              2\n",
            "NO2             2\n",
            "NOx             0\n",
            "NH3             9\n",
            "CO              0\n",
            "SO2           110\n",
            "O3             84\n",
            "Benzene         0\n",
            "Toluene         0\n",
            "AQI            10\n",
            "AQI_Bucket     10\n",
            "dtype: int64\n"
          ]
        }
      ]
    },
    {
      "cell_type": "code",
      "source": [
        "# Convert date strings to datetime objects\n",
        "data['Date'] = pd.to_datetime(data['Date'], format=\"%d-%m-%Y\")\n",
        "\n",
        "# Create a new column 'Season' based on the 'Date' column\n",
        "data['Season'] = data['Date'].dt.month.map({1: 'Winter', 2: 'Winter', 3: 'Spring', 4: 'Spring', 5: 'Spring', 6: 'Summer', 7: 'Summer', 8: 'Summer', 9: 'Autumn', 10: 'Autumn', 11: 'Autumn', 12: 'Winter'})\n",
        "\n",
        "# Convert datetime to numerical representation\n",
        "data['Date'] = (data['Date'] - pd.to_datetime(\"2015-01-01\")).dt.total_seconds() / (24 * 60 * 60)\n"
      ],
      "metadata": {
        "id": "uO64ioMz9Vmk"
      },
      "execution_count": 5,
      "outputs": []
    },
    {
      "cell_type": "code",
      "source": [
        "# Select features for the model\n",
        "features = ['Date','PM2.5', 'PM10', 'NO', 'NO2', 'NOx', 'NH3', 'CO', 'SO2', 'O3']\n",
        "x = data[features]\n",
        "\n",
        "# Select prediction target\n",
        "y = data['AQI']\n",
        "\n",
        "# Split the data into training and validation data\n",
        "train_x, val_x, train_y, val_y = train_test_split(x, y, random_state=0)\n"
      ],
      "metadata": {
        "id": "egkUEh4s9ZGg"
      },
      "execution_count": 6,
      "outputs": []
    },
    {
      "cell_type": "code",
      "source": [
        "# Normalize the data\n",
        "scaler = MinMaxScaler()\n",
        "train_x_scaled = scaler.fit_transform(train_x)\n",
        "val_x_scaled = scaler.transform(val_x)"
      ],
      "metadata": {
        "id": "5zsVP3m19coB"
      },
      "execution_count": 7,
      "outputs": []
    },
    {
      "cell_type": "code",
      "source": [
        "# Reshape the data\n",
        "train_x_reshaped = np.reshape(train_x_scaled, (train_x_scaled.shape[0], 1, train_x_scaled.shape[1]))\n",
        "val_x_reshaped = np.reshape(val_x_scaled, (val_x_scaled.shape[0], 1, val_x_scaled.shape[1]))\n"
      ],
      "metadata": {
        "id": "GXLIzXrS9fE9"
      },
      "execution_count": 8,
      "outputs": []
    },
    {
      "cell_type": "code",
      "source": [
        "# Build the LSTM model\n",
        "model = Sequential()\n",
        "model.add(LSTM(units=100, activation='relu', input_shape=(1, train_x.shape[1])))\n",
        "model.add(Dense(units=1))"
      ],
      "metadata": {
        "id": "H44qv6Fv9hWE"
      },
      "execution_count": 9,
      "outputs": []
    },
    {
      "cell_type": "code",
      "source": [
        "# Compile and train the model\n",
        "model.compile(loss='mean_squared_error', optimizer='adam')\n",
        "model.fit(train_x_reshaped, train_y, epochs=10, batch_size=32)\n",
        "\n",
        "# Evaluate the model\n",
        "predictions = model.predict(val_x_reshaped)\n",
        "\n",
        "print(mean_absolute_error(val_y, predictions))\n",
        "print(mean_squared_error(val_y, predictions))\n",
        "print(data['AQI'].head(), predictions[:5])"
      ],
      "metadata": {
        "id": "9CMrh4-I9jno",
        "colab": {
          "base_uri": "https://localhost:8080/"
        },
        "outputId": "827935db-b43b-4d61-b76f-3ab573255eaa"
      },
      "execution_count": 10,
      "outputs": [
        {
          "output_type": "stream",
          "name": "stdout",
          "text": [
            "Epoch 1/10\n",
            "45/45 [==============================] - 1s 2ms/step - loss: 84717.1641\n",
            "Epoch 2/10\n",
            "45/45 [==============================] - 0s 2ms/step - loss: 84362.7578\n",
            "Epoch 3/10\n",
            "45/45 [==============================] - 0s 2ms/step - loss: 83453.0391\n",
            "Epoch 4/10\n",
            "45/45 [==============================] - 0s 2ms/step - loss: 81606.7344\n",
            "Epoch 5/10\n",
            "45/45 [==============================] - 0s 2ms/step - loss: 78492.8125\n",
            "Epoch 6/10\n",
            "45/45 [==============================] - 0s 2ms/step - loss: 74081.9375\n",
            "Epoch 7/10\n",
            "45/45 [==============================] - 0s 2ms/step - loss: 68605.4375\n",
            "Epoch 8/10\n",
            "45/45 [==============================] - 0s 2ms/step - loss: 62310.6875\n",
            "Epoch 9/10\n",
            "45/45 [==============================] - 0s 2ms/step - loss: 55608.7500\n",
            "Epoch 10/10\n",
            "45/45 [==============================] - 0s 2ms/step - loss: 48585.1289\n",
            "15/15 [==============================] - 0s 2ms/step\n",
            "194.34963320673398\n",
            "46831.33996293371\n",
            "0    472.0\n",
            "1    454.0\n",
            "2    143.0\n",
            "3    319.0\n",
            "4    325.0\n",
            "Name: AQI, dtype: float64 [[ 56.259365]\n",
            " [ 62.204548]\n",
            " [ 58.794773]\n",
            " [100.16777 ]\n",
            " [129.21089 ]]\n"
          ]
        }
      ]
    },
    {
      "cell_type": "code",
      "source": [
        "# Calculate accuracy\n",
        "threshold = 300 # Define a threshold to classify the predictions\n",
        "predicted_classes = np.where(predictions > threshold, 1, 0)\n",
        "actual_classes = np.where(val_y > threshold, 1, 0)\n",
        "accuracy = np.mean(predicted_classes == actual_classes)\n",
        "print(\"Accuracy:\", accuracy)"
      ],
      "metadata": {
        "id": "jKTI7noJ_ZXo",
        "colab": {
          "base_uri": "https://localhost:8080/"
        },
        "outputId": "4f84f155-7f23-4c7b-9cc8-7a2369db85a5"
      },
      "execution_count": 11,
      "outputs": [
        {
          "output_type": "stream",
          "name": "stdout",
          "text": [
            "Accuracy: 0.6093418259023354\n"
          ]
        }
      ]
    }
  ]
}